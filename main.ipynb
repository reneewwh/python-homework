{
 "cells": [
  {
   "cell_type": "code",
   "execution_count": 1,
   "id": "4c8fa279-7507-4f82-89b9-5a53f8e8cf78",
   "metadata": {
    "tags": []
   },
   "outputs": [],
   "source": [
    "import csv\n",
    "from datetime import datetime\n",
    "csv_file = 'budget_data.csv'"
   ]
  },
  {
   "cell_type": "code",
   "execution_count": 34,
   "id": "eec1ec0a-cabe-46a8-befe-ff8591fa6253",
   "metadata": {
    "tags": []
   },
   "outputs": [],
   "source": [
    "x=0\n",
    "count=0\n",
    "average=0\n",
    "total=0\n",
    "minimum=0\n",
    "min_dt=0\n",
    "maximum=0\n",
    "max_dt = None\n",
    "profitable_days=[]\n",
    "unprofitable_days=[]"
   ]
  },
  {
   "cell_type": "code",
   "execution_count": 35,
   "id": "83c51dcd-44c8-4f5f-8810-ef09344bc4ee",
   "metadata": {
    "tags": []
   },
   "outputs": [],
   "source": [
    "with open(csv_file, 'r') as file:\n",
    "    csv_reader = csv.reader(file)\n",
    "    next(csv_reader)  # Skip the header row if it exists\n",
    "\n",
    "    # Iterate through each row in the CSV file\n",
    "    for row in csv_reader:\n",
    "        # Extract date and profit/loss amount from the current row\n",
    "        date, amount = row[0], row[1]\n",
    "        x = float(amount)\n",
    "        #date = datetime.strptime(date_str, '%Y-%m-%d')\n",
    "\n",
    "            \n",
    "            \n",
    "        # Cumulatively sum up the total and count of tips\n",
    "\n",
    "        # Logic to determine minimum and maximum values\n",
    "        if x < minimum:\n",
    "            minimum = x\n",
    "            min_dt =date \n",
    "        elif x > maximum:\n",
    "            maximum = x\n",
    "            max_date = date\n",
    "\n",
    "        total += x\n",
    "        count += 1"
   ]
  },
  {
   "cell_type": "markdown",
   "id": "ef3c74df-eaea-4f16-89cc-08de28aefa80",
   "metadata": {},
   "source": [
    "#### The total number of months included in the dataset."
   ]
  },
  {
   "cell_type": "code",
   "execution_count": 61,
   "id": "a1b751a0-faec-4f46-9f4b-b1d49dd00583",
   "metadata": {
    "tags": []
   },
   "outputs": [
    {
     "name": "stdout",
     "output_type": "stream",
     "text": [
      "Total Months: 86\n"
     ]
    }
   ],
   "source": [
    "print(f\"Total Months: {count}\")"
   ]
  },
  {
   "cell_type": "markdown",
   "id": "1d061be8-5a83-4117-8c52-09ef66cb3b52",
   "metadata": {},
   "source": [
    "#### The net total amount of Profit/Losses over the entire period."
   ]
  },
  {
   "cell_type": "code",
   "execution_count": 62,
   "id": "5949f7f9-6f7f-4eef-b5a6-051dd7daa9b8",
   "metadata": {
    "tags": []
   },
   "outputs": [
    {
     "name": "stdout",
     "output_type": "stream",
     "text": [
      "Total: $38382578\n"
     ]
    }
   ],
   "source": [
    "print(f\"Total: ${int(total)}\")"
   ]
  },
  {
   "cell_type": "markdown",
   "id": "cc716ef8-5ea1-42ba-ab69-c397e0829524",
   "metadata": {},
   "source": [
    "#### The average of the changes in Profit/Losses over the entire period."
   ]
  },
  {
   "cell_type": "code",
   "execution_count": 63,
   "id": "ae547f47-38fd-4c35-a642-32d1d6cb8983",
   "metadata": {
    "tags": []
   },
   "outputs": [
    {
     "name": "stdout",
     "output_type": "stream",
     "text": [
      "Average Change: $446309\n"
     ]
    }
   ],
   "source": [
    "average=int(total/count)\n",
    "print(f\"Average Change: ${average}\")"
   ]
  },
  {
   "cell_type": "markdown",
   "id": "3c809275-943a-4b11-81ed-c19062d841bd",
   "metadata": {},
   "source": [
    "#### The greatest increase in profits (date and amount) over the entire period."
   ]
  },
  {
   "cell_type": "code",
   "execution_count": 64,
   "id": "8be61476-2e38-4f3e-bf60-9ad3685abb53",
   "metadata": {
    "tags": []
   },
   "outputs": [
    {
     "name": "stdout",
     "output_type": "stream",
     "text": [
      "Feb-2012\n",
      "1170593.0\n"
     ]
    }
   ],
   "source": [
    "print(max_date)\n",
    "print(maximum)"
   ]
  },
  {
   "cell_type": "code",
   "execution_count": 65,
   "id": "5d5ec931-bba2-4b3a-901d-cd9f4f0333f4",
   "metadata": {
    "tags": []
   },
   "outputs": [
    {
     "name": "stdout",
     "output_type": "stream",
     "text": [
      "Greatest Increase in Profits: Feb-2012 ($1170593)\n"
     ]
    }
   ],
   "source": [
    "print(f\"Greatest Increase in Profits: {max_date} (${int(maximum)})\")"
   ]
  },
  {
   "cell_type": "markdown",
   "id": "dc94b6b8-aee1-41f4-adb6-7dc48e120d02",
   "metadata": {},
   "source": [
    "#### The greatest decrease in losses (date and amount) over the entire period."
   ]
  },
  {
   "cell_type": "code",
   "execution_count": 66,
   "id": "f14e7c4d-2719-41ae-be84-8a6a618ffa56",
   "metadata": {
    "tags": []
   },
   "outputs": [
    {
     "name": "stdout",
     "output_type": "stream",
     "text": [
      "Sep-2013\n",
      "-1196225.0\n"
     ]
    }
   ],
   "source": [
    "print(min_dt)\n",
    "print(minimum)"
   ]
  },
  {
   "cell_type": "code",
   "execution_count": 67,
   "id": "d50193f3-ba7d-42f7-8689-b6cbfa089939",
   "metadata": {
    "tags": []
   },
   "outputs": [
    {
     "name": "stdout",
     "output_type": "stream",
     "text": [
      "Greatest Derease in Profits: Sep-2013 ($-1196225)\n"
     ]
    }
   ],
   "source": [
    "print(f\"Greatest Derease in Profits: {min_dt} (${int(minimum)})\")"
   ]
  },
  {
   "cell_type": "code",
   "execution_count": 60,
   "id": "f4ac32d2-60cc-464e-ba7a-309df6769856",
   "metadata": {
    "tags": []
   },
   "outputs": [],
   "source": [
    "# Set the output file path\n",
    "output_path = Path(\"output.txt\")\n"
   ]
  },
  {
   "cell_type": "code",
   "execution_count": 81,
   "id": "bdcaeea7-7705-4baf-8d57-0f2f535ae38b",
   "metadata": {
    "tags": []
   },
   "outputs": [],
   "source": [
    "# write file\n",
    "with open(output_path, 'w') as file:\n",
    "    file.write(\"Financial Analysis\\n\")\n",
    "    file.write(\"*\"*20)\n",
    "    file.write(\"\\n\")\n",
    "    file.write(\"Total Months: {}\\n\".format(count))\n",
    "    file.write(\"Total: $ {}\\n\".format(int(total)))\n",
    "    file.write(\"Average Change: $ {}\\n\".format(int(average)))\n",
    "    file.write(\"Greatest Increase in Profits: {}\".format(max_date))\n",
    "    file.write(\" ${}\\n\".format(int(maximum)))\n",
    "    file.write(\"Greatest Decrease in Profits: {}\".format(min_dt))\n",
    "    file.write(\" ${}\\n\".format(int(minimum)))\n",
    "    \n",
    "    \n",
    "    "
   ]
  },
  {
   "cell_type": "code",
   "execution_count": 86,
   "id": "7dc9e472-a52d-4ab6-b331-8bed9e3a5c13",
   "metadata": {
    "tags": []
   },
   "outputs": [
    {
     "data": {
      "text/html": [
       "<div>\n",
       "<style scoped>\n",
       "    .dataframe tbody tr th:only-of-type {\n",
       "        vertical-align: middle;\n",
       "    }\n",
       "\n",
       "    .dataframe tbody tr th {\n",
       "        vertical-align: top;\n",
       "    }\n",
       "\n",
       "    .dataframe thead th {\n",
       "        text-align: right;\n",
       "    }\n",
       "</style>\n",
       "<table border=\"1\" class=\"dataframe\">\n",
       "  <thead>\n",
       "    <tr style=\"text-align: right;\">\n",
       "      <th></th>\n",
       "      <th>Date</th>\n",
       "      <th>Profit/Losses</th>\n",
       "    </tr>\n",
       "  </thead>\n",
       "  <tbody>\n",
       "    <tr>\n",
       "      <th>0</th>\n",
       "      <td>Jan-2010</td>\n",
       "      <td>867884</td>\n",
       "    </tr>\n",
       "    <tr>\n",
       "      <th>1</th>\n",
       "      <td>Feb-2010</td>\n",
       "      <td>984655</td>\n",
       "    </tr>\n",
       "    <tr>\n",
       "      <th>2</th>\n",
       "      <td>Mar-2010</td>\n",
       "      <td>322013</td>\n",
       "    </tr>\n",
       "    <tr>\n",
       "      <th>3</th>\n",
       "      <td>Apr-2010</td>\n",
       "      <td>-69417</td>\n",
       "    </tr>\n",
       "    <tr>\n",
       "      <th>4</th>\n",
       "      <td>May-2010</td>\n",
       "      <td>310503</td>\n",
       "    </tr>\n",
       "  </tbody>\n",
       "</table>\n",
       "</div>"
      ],
      "text/plain": [
       "       Date  Profit/Losses\n",
       "0  Jan-2010         867884\n",
       "1  Feb-2010         984655\n",
       "2  Mar-2010         322013\n",
       "3  Apr-2010         -69417\n",
       "4  May-2010         310503"
      ]
     },
     "execution_count": 86,
     "metadata": {},
     "output_type": "execute_result"
    }
   ],
   "source": [
    "## check max min results using panda\n",
    "\n",
    "import pandas as pd\n",
    "from pathlib import Path\n",
    "df = pd.read_csv(\"budget_data.csv\")\n",
    "df.head()"
   ]
  },
  {
   "cell_type": "code",
   "execution_count": 90,
   "id": "a14080fa-b03d-4189-b7de-679357a5adc3",
   "metadata": {
    "tags": []
   },
   "outputs": [
    {
     "data": {
      "text/html": [
       "<div>\n",
       "<style scoped>\n",
       "    .dataframe tbody tr th:only-of-type {\n",
       "        vertical-align: middle;\n",
       "    }\n",
       "\n",
       "    .dataframe tbody tr th {\n",
       "        vertical-align: top;\n",
       "    }\n",
       "\n",
       "    .dataframe thead th {\n",
       "        text-align: right;\n",
       "    }\n",
       "</style>\n",
       "<table border=\"1\" class=\"dataframe\">\n",
       "  <thead>\n",
       "    <tr style=\"text-align: right;\">\n",
       "      <th></th>\n",
       "      <th>Date</th>\n",
       "      <th>Profit/Losses</th>\n",
       "    </tr>\n",
       "  </thead>\n",
       "  <tbody>\n",
       "    <tr>\n",
       "      <th>25</th>\n",
       "      <td>Feb-2012</td>\n",
       "      <td>1170593</td>\n",
       "    </tr>\n",
       "  </tbody>\n",
       "</table>\n",
       "</div>"
      ],
      "text/plain": [
       "        Date  Profit/Losses\n",
       "25  Feb-2012        1170593"
      ]
     },
     "execution_count": 90,
     "metadata": {},
     "output_type": "execute_result"
    }
   ],
   "source": [
    "df[df['Profit/Losses']==df['Profit/Losses'].max()]"
   ]
  },
  {
   "cell_type": "code",
   "execution_count": 91,
   "id": "b3c3081c-c2a4-4044-8a1d-dce72878d0fa",
   "metadata": {
    "tags": []
   },
   "outputs": [
    {
     "data": {
      "text/html": [
       "<div>\n",
       "<style scoped>\n",
       "    .dataframe tbody tr th:only-of-type {\n",
       "        vertical-align: middle;\n",
       "    }\n",
       "\n",
       "    .dataframe tbody tr th {\n",
       "        vertical-align: top;\n",
       "    }\n",
       "\n",
       "    .dataframe thead th {\n",
       "        text-align: right;\n",
       "    }\n",
       "</style>\n",
       "<table border=\"1\" class=\"dataframe\">\n",
       "  <thead>\n",
       "    <tr style=\"text-align: right;\">\n",
       "      <th></th>\n",
       "      <th>Date</th>\n",
       "      <th>Profit/Losses</th>\n",
       "    </tr>\n",
       "  </thead>\n",
       "  <tbody>\n",
       "    <tr>\n",
       "      <th>44</th>\n",
       "      <td>Sep-2013</td>\n",
       "      <td>-1196225</td>\n",
       "    </tr>\n",
       "  </tbody>\n",
       "</table>\n",
       "</div>"
      ],
      "text/plain": [
       "        Date  Profit/Losses\n",
       "44  Sep-2013       -1196225"
      ]
     },
     "execution_count": 91,
     "metadata": {},
     "output_type": "execute_result"
    }
   ],
   "source": [
    "df[df['Profit/Losses']==df['Profit/Losses'].min()]"
   ]
  }
 ],
 "metadata": {
  "kernelspec": {
   "display_name": "Python 3 (ipykernel)",
   "language": "python",
   "name": "python3"
  },
  "language_info": {
   "codemirror_mode": {
    "name": "ipython",
    "version": 3
   },
   "file_extension": ".py",
   "mimetype": "text/x-python",
   "name": "python",
   "nbconvert_exporter": "python",
   "pygments_lexer": "ipython3",
   "version": "3.10.12"
  }
 },
 "nbformat": 4,
 "nbformat_minor": 5
}
